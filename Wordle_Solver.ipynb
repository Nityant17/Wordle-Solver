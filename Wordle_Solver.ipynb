{
 "cells": [
  {
   "cell_type": "code",
   "execution_count": 1,
   "id": "6e93ec0e-7f04-4826-863a-d293cf394283",
   "metadata": {},
   "outputs": [
    {
     "name": "stdout",
     "output_type": "stream",
     "text": [
      "Output too long for GitHub \n"
     ]
    }
   ],
   "source": [
    "from nltk.corpus import words\n",
    "\n",
    "count = 0\n",
    "lst = []\n",
    "for word in words.words():\n",
    "    if word[0].isupper():\n",
    "        continue\n",
    "    if len(word)==5:\n",
    "        count = count+1\n",
    "        lst.append(word)\n",
    "# print(count)\n",
    "\n",
    "score = {}\n",
    "for word in lst:\n",
    "    score[word]=0.0\n",
    "    for x in lst:\n",
    "        score[word] = score[word] + (1.0*len(set(word).intersection(set(x)))/len(lst))\n",
    "    print(word,\" \",score[word])\n",
    "\n",
    "val = max(score.values())\n",
    "# print(val)\n",
    "key = next((k for k, v in score.items() if v == val), None)\n",
    "# print(key)"
   ]
  },
  {
   "cell_type": "code",
   "execution_count": 2,
   "id": "631f1226-adf3-4566-91cb-4de885bcd048",
   "metadata": {},
   "outputs": [],
   "source": [
    "def word_finder(data, idx_char_pairs=None, exclude_letters=None, must_contain_letters=None, forbidden_indices=None, n=1):\n",
    "    \n",
    "    if idx_char_pairs:\n",
    "        data = { k: v for k, v in data.items()\n",
    "            if all(k[idx] == char for idx, char in idx_char_pairs) }\n",
    "    \n",
    "    if exclude_letters:\n",
    "        data = { k: v for k, v in data.items()\n",
    "            if not any(letter in k for letter in exclude_letters) }\n",
    "    \n",
    "    if must_contain_letters:\n",
    "        data = { k: v for k, v in data.items()\n",
    "            if all(letter in k and all(k[idx] != letter for idx in forbidden_indices.get(letter, [])) for letter in must_contain_letters) }\n",
    "\n",
    "    sorted_keys = sorted(data, key=data.get, reverse=True)\n",
    "    \n",
    "    nth_key = sorted_keys[n - 1]\n",
    "    return nth_key, data[nth_key]"
   ]
  },
  {
   "cell_type": "code",
   "execution_count": 3,
   "id": "4e9b5f4c-dbe3-4e9e-9b54-d293ca7ba4dd",
   "metadata": {},
   "outputs": [
    {
     "name": "stdout",
     "output_type": "stream",
     "text": [
      "To start the game enter arose\n"
     ]
    },
    {
     "name": "stdin",
     "output_type": "stream",
     "text": [
      "Did the previous word exist? y or n: y\n"
     ]
    },
    {
     "name": "stdout",
     "output_type": "stream",
     "text": [
      "Enter colour for each letter by entering g, b or y for green, black or yellow\n"
     ]
    },
    {
     "name": "stdin",
     "output_type": "stream",
     "text": [
      "Enter colour: y\n",
      "Enter colour: y\n",
      "Enter colour: b\n",
      "Enter colour: b\n",
      "Enter colour: b\n"
     ]
    },
    {
     "name": "stdout",
     "output_type": "stream",
     "text": [
      "Next word: litra, Value: 1.5978823800205875\n"
     ]
    },
    {
     "name": "stdin",
     "output_type": "stream",
     "text": [
      "Enter c to continue and end to end: c\n",
      "Did the previous word exist? y or n: n\n"
     ]
    },
    {
     "name": "stdout",
     "output_type": "stream",
     "text": [
      "Next word: riant, Value: 1.5826907584300733\n"
     ]
    },
    {
     "name": "stdin",
     "output_type": "stream",
     "text": [
      "Enter c to continue and end to end: c\n",
      "Did the previous word exist? y or n: y\n"
     ]
    },
    {
     "name": "stdout",
     "output_type": "stream",
     "text": [
      "Enter colour for each letter by entering g, b or y for green, black or yellow\n"
     ]
    },
    {
     "name": "stdin",
     "output_type": "stream",
     "text": [
      "Enter colour: g\n",
      "Enter colour: y\n",
      "Enter colour: y\n",
      "Enter colour: g\n",
      "Enter colour: b\n"
     ]
    },
    {
     "name": "stdout",
     "output_type": "stream",
     "text": [
      "Next word: rainy, Value: 1.505121417884565\n"
     ]
    },
    {
     "name": "stdin",
     "output_type": "stream",
     "text": [
      "Enter c to continue and end to end: end\n"
     ]
    },
    {
     "name": "stdout",
     "output_type": "stream",
     "text": [
      "Byeee...\n"
     ]
    }
   ],
   "source": [
    "print(\"To start the game enter arose\")\n",
    "guess = ['a','r','o','s','e']\n",
    "\n",
    "index_char_conditions = []\n",
    "exclude_letters = []\n",
    "must_contain_letters = []\n",
    "forbidden_indices = {}\n",
    "m = 2\n",
    "c = 'c'\n",
    "while c == 'c':\n",
    "    v = input(\"Did the previous word exist? y or n:\")\n",
    "    if v == 'y':\n",
    "        m = 2\n",
    "        print(\"Enter colour for each letter by entering g, b or y for green, black or yellow\")\n",
    "        l=[]\n",
    "        for i in range(0,5):\n",
    "            x = input(\"Enter colour:\")\n",
    "            l.append(x)\n",
    "        # print(l)\n",
    "        \n",
    "        index_of_g = []\n",
    "        index_of_b = []\n",
    "        index_of_y = []\n",
    "        for i in range(len(l)):\n",
    "            if l[i] == 'g': \n",
    "                index_of_g.append(i)\n",
    "            if l[i] == 'b': \n",
    "                index_of_b.append(i)\n",
    "            if l[i] == 'y': \n",
    "                index_of_y.append(i)\n",
    "        # print(\"green:\",index_of_g)\n",
    "        # print(\"black:\",index_of_b)\n",
    "        # print(\"yellow:\",index_of_y)\n",
    "        \n",
    "        for i in index_of_g:\n",
    "            index_char_conditions.append((i,guess[i]))\n",
    "        for i in index_of_b:\n",
    "            exclude_letters.append(guess[i])\n",
    "        for i in index_of_y:\n",
    "            must_contain_letters.append(guess[i])\n",
    "            if guess[i] not in forbidden_indices:\n",
    "                forbidden_indices[guess[i]] = []\n",
    "            forbidden_indices[guess[i]].append(i)\n",
    "        index_char_conditions = list(dict.fromkeys(index_char_conditions))\n",
    "        must_contain_letters = list(dict.fromkeys(must_contain_letters))\n",
    "        # print(\"Greened:\",index_char_conditions)\n",
    "        # print(\"Blacked:\",exclude_letters)\n",
    "        # print(\"Yellowed:\",must_contain_letters)\n",
    "        # print(\"Index of Yellow:\",forbidden_indices)\n",
    "        \n",
    "        # Find the next word based on all conditions\n",
    "        \n",
    "        next_word, next_value = word_finder(\n",
    "            score,\n",
    "            idx_char_pairs=index_char_conditions,\n",
    "            exclude_letters=exclude_letters,\n",
    "            must_contain_letters=must_contain_letters,\n",
    "            forbidden_indices=forbidden_indices,\n",
    "            n=1 )\n",
    "    \n",
    "    elif v == 'n':\n",
    "        next_word, next_value = word_finder(\n",
    "            score,\n",
    "            idx_char_pairs=index_char_conditions,\n",
    "            exclude_letters=exclude_letters,\n",
    "            must_contain_letters=must_contain_letters,\n",
    "            forbidden_indices=forbidden_indices,\n",
    "            n=m )\n",
    "        m+=1\n",
    "    \n",
    "    print(f\"Next word: {next_word}, Value: {next_value}\")\n",
    "    g = []\n",
    "    for i in next_word:\n",
    "        g.append(i)\n",
    "    # print(g)\n",
    "    guess = g\n",
    "    c = input(\"Enter c to continue and end to end:\")\n",
    "    if c == \"end\":\n",
    "        break\n",
    "\n",
    "print(\"Byeee...\")"
   ]
  },
  {
   "cell_type": "code",
   "execution_count": null,
   "id": "faef90b4-97b8-4ca3-bcae-f8f92aaf178f",
   "metadata": {},
   "outputs": [],
   "source": []
  }
 ],
 "metadata": {
  "kernelspec": {
   "display_name": "Python 3 (ipykernel)",
   "language": "python",
   "name": "python3"
  },
  "language_info": {
   "codemirror_mode": {
    "name": "ipython",
    "version": 3
   },
   "file_extension": ".py",
   "mimetype": "text/x-python",
   "name": "python",
   "nbconvert_exporter": "python",
   "pygments_lexer": "ipython3",
   "version": "3.12.7"
  }
 },
 "nbformat": 4,
 "nbformat_minor": 5
}
